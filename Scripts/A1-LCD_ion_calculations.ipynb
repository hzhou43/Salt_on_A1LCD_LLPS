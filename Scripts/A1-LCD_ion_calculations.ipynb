{
 "cells": [
  {
   "cell_type": "markdown",
   "metadata": {},
   "source": [
    "## Calculate ion count for a specific amino acid type"
   ]
  },
  {
   "cell_type": "code",
   "execution_count": null,
   "metadata": {},
   "outputs": [],
   "source": [
    "## calculate number of ions per AA type from CPPTRAJ contact mask output files (.dat output file type):"
   ]
  },
  {
   "cell_type": "code",
   "execution_count": null,
   "metadata": {},
   "outputs": [],
   "source": [
    "# This function reads in and combines CPPTRAJ contact mask .dat files for each chain and then removes duplicates.\n",
    "\n",
    "import pandas as pd\n",
    "import os\n",
    "\n",
    "def combine_and_sort_data(run_folder, file_folder):\n",
    "    for data_type in file_folder: \n",
    "        for run_number in run_folder:\n",
    "            print(f\"Processing Run {run_number}\")\n",
    "\n",
    "            # Initialize an empty DataFrame to store data for this run\n",
    "            combined_df = pd.DataFrame()\n",
    "\n",
    "            # Loop through the number of protein chains in simulation (8 in this example)\n",
    "            for chain_number in range(1, 9):\n",
    "                folder_name = f\"Run{run_number}/chain_data/ionMask_NtoCl_OtoNa_1500ns_chain{chain_number}\"\n",
    "                filename = os.path.join(folder_name, f\"{data_type}.dat\")  \n",
    "\n",
    "                if os.path.exists(filename):\n",
    "                    # Read the data from the current chain file\n",
    "                    df = pd.read_csv(filename, delim_whitespace=True)\n",
    "\n",
    "                    # Drop duplicates within the same Frame, keeping the first occurrence of each ResNum\n",
    "                    df = df.drop_duplicates(subset=['#Frame', 'ResNum'], keep='first')\n",
    "\n",
    "                    # Append the current chain's data to the combined DataFrame and repeat for each chain in the simulation\n",
    "                    combined_df = combined_df.append(df, ignore_index=True)\n",
    "\n",
    "            # Sort the combined DataFrame by the '#Frame' column\n",
    "            combined_df.sort_values(by='#Frame', inplace=True)\n",
    "            \n",
    "            combined_df = combined_df.drop_duplicates(subset=['#Frame', 'ResNum'], keep='first')    \n",
    "            \n",
    "            # Save the combined and sorted DataFrame\n",
    "            output_filename = f\"Run{run_number}/chain_data/1st_shell_ion_per_res/allChainData_1500ns_{data_type}.csv\"\n",
    "            combined_df.to_csv(output_filename, index=False)\n",
    "\n",
    "            print(f\"Saved combined and sorted data for Run {run_number} to {output_filename}\")\n"
   ]
  },
  {
   "cell_type": "code",
   "execution_count": null,
   "metadata": {},
   "outputs": [],
   "source": [
    "## Run the following cells for each ion-amino_acid pair to remove duplicates from the raw data "
   ]
  },
  {
   "cell_type": "code",
   "execution_count": null,
   "metadata": {
    "scrolled": true
   },
   "outputs": [],
   "source": [
    "#run_folders can be adjusted for any number of replicate simulations\n",
    "run_folders = [1, 2, 3, 4] \n",
    "#file_folders is the file name of each .dat output file from CPPTRAJ\n",
    "file_folders = [\"Cl_within_4A_ARG\", \"Cl_within_4A_ASN\", \"Cl_within_4A_GLN\", \"Cl_within_4A_LYS\", \n",
    "               \"Cl_within_4A_SER\", \"Cl_within_4A_BB_N\", \"Cl_within_4A_GLY_BB_N\"]\n",
    "combine_and_sort_data(run_folders,file_folders)\n"
   ]
  },
  {
   "cell_type": "code",
   "execution_count": null,
   "metadata": {
    "scrolled": true
   },
   "outputs": [],
   "source": [
    "run_folders = [1, 2, 3, 4] \n",
    "file_folders = [\"Na_within_3A_ASP\", \"Na_within_3A_ASN\", \"Na_within_3A_GLN\", \"Na_within_3A_SER\", \n",
    "                \"Na_within_3A_BB_O\", \"Na_within_3A_GLY_BB_O\"]\n",
    "combine_and_sort_data(run_folders,file_folders)\n"
   ]
  },
  {
   "cell_type": "code",
   "execution_count": null,
   "metadata": {},
   "outputs": [],
   "source": [
    "#calculate average ions with each group after sorting data above\n",
    "def calculate_average_sum(run_folders, file_folders, output_file, frames):\n",
    "    result = []\n",
    "    for data_type in file_folders:\n",
    "        contact_sum = 0\n",
    "        for run_folder in run_folders:\n",
    "            filename = f\"{run_folder}/chain_data/1st_shell_ion_per_res/allChainData_1500ns_{data_type}.csv\"\n",
    "            df = pd.read_csv(filename, sep='\\t')\n",
    "            contact_sum += len(df)\n",
    "        avg_contact_sum = contact_sum / len(run_folders) / frames\n",
    "        result.append((data_type, avg_contact_sum))\n",
    "    \n",
    "    # Save the result to a CSV file\n",
    "    df_result = pd.DataFrame(result, columns=['AA', 'Ions'])\n",
    "    df_result.to_csv(output_file, index=False)"
   ]
  },
  {
   "cell_type": "code",
   "execution_count": null,
   "metadata": {},
   "outputs": [],
   "source": [
    "## Each \"Run#\" is a replicate simulation, for additional runs repeat the cells below \n",
    "## For reach Run#, run the 'calculate_average_sum' function for each ion type and include the amino acid file names to get average Cl-/Na+ ions for each amino_acid saved to one file\n"
   ]
  },
  {
   "cell_type": "code",
   "execution_count": null,
   "metadata": {},
   "outputs": [],
   "source": [
    "run_folders = ['Run{}'.format(i) for i in [1]]\n",
    "file_folders = [\"Cl_within_4A_ARG\", \"Cl_within_4A_ASN\", \"Cl_within_4A_GLN\", \"Cl_within_4A_LYS\", \n",
    "               \"Cl_within_4A_SER\", \"Cl_within_4A_BB_N\", \"Cl_within_4A_GLY_BB_N\"]\n",
    "output_file = f\"ion_data/Cl_within_4A_AA_run1.dat\"\n",
    "frames = 2500\n",
    "\n",
    "calculate_average_sum(run_folders, file_folders, output_file, frames)"
   ]
  },
  {
   "cell_type": "code",
   "execution_count": null,
   "metadata": {},
   "outputs": [],
   "source": [
    "run_folders = ['Run{}'.format(i) for i in [1]]\n",
    "file_folders = [\"Na_within_3A_ASP\", \"Na_within_3A_ASN\", \"Na_within_3A_GLN\", \"Na_within_3A_SER\", \n",
    "                \"Na_within_3A_BB_O\", \"Na_within_3A_GLY_BB_O\"]\n",
    "output_file = f\"ion_data/Na_within_3A_AA_Run1.dat\"\n",
    "frames = 2500\n",
    "\n",
    "calculate_average_sum(run_folders, file_folders, output_file, frames)"
   ]
  },
  {
   "cell_type": "code",
   "execution_count": null,
   "metadata": {},
   "outputs": [],
   "source": []
  },
  {
   "cell_type": "code",
   "execution_count": null,
   "metadata": {},
   "outputs": [],
   "source": []
  },
  {
   "cell_type": "code",
   "execution_count": null,
   "metadata": {},
   "outputs": [],
   "source": []
  },
  {
   "cell_type": "code",
   "execution_count": null,
   "metadata": {},
   "outputs": [],
   "source": []
  },
  {
   "cell_type": "markdown",
   "metadata": {},
   "source": [
    "## Calculate number of ions bridging specific number of chains"
   ]
  },
  {
   "cell_type": "code",
   "execution_count": 1,
   "metadata": {},
   "outputs": [],
   "source": [
    "## Calculate number of ions per chain number for bridging\n",
    "# update 'i' variable as needed for more or less replicate simulations\n",
    "# update 'frame_number' as needed for simulation frames in the input file\n",
    "# update number/location of 'folder_names' based on number of chains in the simulation \n",
    "# update second variable in 'folder_path' based on the file name of the CPPTRAJ .dat ourput file for each ion-cutoff-protein selection\n",
    "# 'output_names_NaOnly.txt' is a txt file containing the atom ID for each ion in the simulation (note: should match numbering for the CPPTRAJ .dat file that will be read in)"
   ]
  },
  {
   "cell_type": "code",
   "execution_count": null,
   "metadata": {},
   "outputs": [],
   "source": [
    "import pandas as pd\n",
    "import os\n",
    "\n",
    "# Create an empty DataFrame to store the results\n",
    "output_df = pd.DataFrame(columns=['i', 'Number', 'Value'])\n",
    "\n",
    "# 'i' variable is for number of repliace runs (Run#) \n",
    "for i in range(1, 5):\n",
    "    # 'output_names_NaOnly.txt' is a .txt file containing the atom ID for each Na+ ion in the simulation\n",
    "    with open('output_names_NaOnly.txt', 'r') as resnum_file:\n",
    "        unique_resnums = [line.strip() for line in resnum_file]\n",
    "\n",
    "    frame_numbers = list(range(1, 2501))\n",
    "    df_Na = pd.DataFrame(index=frame_numbers)\n",
    "\n",
    "    for resnum in unique_resnums:\n",
    "        df_Na[resnum] = 0\n",
    "    \n",
    "    #each folder contains the CPPTRAJ output files for contact mask calculaiton of ions within cutoffs to all protein heavy atoms\n",
    "    folder_names = [f'Run{i}/chain_data/ionMask_NtoCl_OtoNa_bothCutoffs_1500ns_chain1/',\n",
    "                    f'Run{i}/chain_data/ionMask_NtoCl_OtoNa_bothCutoffs_1500ns_chain2/',\n",
    "                    f'Run{i}/chain_data/ionMask_NtoCl_OtoNa_bothCutoffs_1500ns_chain3/',\n",
    "                    f'Run{i}/chain_data/ionMask_NtoCl_OtoNa_bothCutoffs_1500ns_chain4/',\n",
    "                    f'Run{i}/chain_data/ionMask_NtoCl_OtoNa_bothCutoffs_1500ns_chain5/',\n",
    "                    f'Run{i}/chain_data/ionMask_NtoCl_OtoNa_bothCutoffs_1500ns_chain6/',\n",
    "                    f'Run{i}/chain_data/ionMask_NtoCl_OtoNa_bothCutoffs_1500ns_chain7/',\n",
    "                    f'Run{i}/chain_data/ionMask_NtoCl_OtoNa_bothCutoffs_1500ns_chain8/',]  \n",
    "\n",
    "    # .dat file in the folder path below is the file name for the output from cpptraj contact mask function for a given cutoff distance and protein atom selection, in this case its Na+ ions within 3A of protein heavy atoms\n",
    "    for folder_name in folder_names:\n",
    "        folder_path = os.path.join(folder_name, 'Na_within_3A_protAtom.dat')\n",
    "\n",
    "        data_df = pd.read_csv(folder_path, sep='\\s+', header=None, names=['Frame', 'AtomNum', 'Atom', 'ResNum', 'Res', 'MolNum'], skiprows=1)\n",
    "        \n",
    "        #counts number of times an ion shows up on the interaction list for a chain\n",
    "        for index, row in data_df.iterrows():\n",
    "            frame = int(row['Frame'])\n",
    "            resnum = row['ResNum']\n",
    "            df_Na.at[frame, f\"{resnum}\"] += 1\n",
    "    #num variable represents the number of chains an ion can interact with, set high enough so that the largest chain number has 0 ions indicating the num-1 is maximum number of chains any ion interacts with at one time\n",
    "    for num in range(1,7):\n",
    "        result_list = []\n",
    "\n",
    "        for index, row in df_Na.iterrows():\n",
    "            sum_result = (row == num).sum().sum()  # Count occurrences of num in the row\n",
    "            result_list.append(sum_result)\n",
    "\n",
    "        result_df = pd.DataFrame({'Result': result_list})\n",
    "\n",
    "        output_df = output_df.append({'i': i, 'Number': num, 'Value': result_df['Result'].mean()}, ignore_index=True)\n",
    "\n",
    "#output file will contain 3 columns: the Run#, the number of bridged chains from 1 to max value 'num', followed by the number of unique ions interacting with that number of chains averged over the number of frames \n",
    "csv_file_path = 'ion_data/Na_3A_prot_1500ns.csv'\n",
    "output_df.to_csv(csv_file_path, index=False)\n",
    "\n",
    "print(\"Output saved to 'Na_3A_prot_1500ns.csv'\")\n",
    "\n"
   ]
  }
 ],
 "metadata": {
  "kernelspec": {
   "display_name": "Python 3",
   "language": "python",
   "name": "python3"
  },
  "language_info": {
   "codemirror_mode": {
    "name": "ipython",
    "version": 3
   },
   "file_extension": ".py",
   "mimetype": "text/x-python",
   "name": "python",
   "nbconvert_exporter": "python",
   "pygments_lexer": "ipython3",
   "version": "3.8.5"
  }
 },
 "nbformat": 4,
 "nbformat_minor": 4
}
